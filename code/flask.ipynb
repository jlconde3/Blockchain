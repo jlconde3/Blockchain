{
 "cells": [
  {
   "cell_type": "code",
   "execution_count": 1,
   "metadata": {},
   "outputs": [
    {
     "name": "stdout",
     "output_type": "stream",
     "text": [
      " * Serving Flask app '__main__'\n",
      " * Debug mode: off\n"
     ]
    },
    {
     "name": "stderr",
     "output_type": "stream",
     "text": [
      "\u001b[31m\u001b[1mWARNING: This is a development server. Do not use it in a production deployment. Use a production WSGI server instead.\u001b[0m\n",
      " * Running on all addresses (0.0.0.0)\n",
      " * Running on http://127.0.0.1:5001\n",
      " * Running on http://192.168.1.38:5001\n",
      "\u001b[33mPress CTRL+C to quit\u001b[0m\n",
      "127.0.0.1 - - [14/Aug/2022 18:28:50] \"\u001b[35m\u001b[1mPOST /transactions/new HTTP/1.1\u001b[0m\" 201 -\n",
      "127.0.0.1 - - [14/Aug/2022 18:28:54] \"\u001b[35m\u001b[1mPOST /transactions/new HTTP/1.1\u001b[0m\" 201 -\n",
      "127.0.0.1 - - [14/Aug/2022 18:28:56] \"\u001b[35m\u001b[1mPOST /transactions/new HTTP/1.1\u001b[0m\" 201 -\n",
      "127.0.0.1 - - [14/Aug/2022 18:28:57] \"\u001b[35m\u001b[1mPOST /transactions/new HTTP/1.1\u001b[0m\" 201 -\n",
      "127.0.0.1 - - [14/Aug/2022 18:28:58] \"\u001b[35m\u001b[1mPOST /transactions/new HTTP/1.1\u001b[0m\" 201 -\n",
      "127.0.0.1 - - [14/Aug/2022 18:29:00] \"\u001b[35m\u001b[1mPOST /transactions/new HTTP/1.1\u001b[0m\" 201 -\n",
      "127.0.0.1 - - [14/Aug/2022 18:29:02] \"\u001b[35m\u001b[1mPOST /transactions/new HTTP/1.1\u001b[0m\" 201 -\n",
      "127.0.0.1 - - [14/Aug/2022 18:29:02] \"\u001b[35m\u001b[1mPOST /transactions/new HTTP/1.1\u001b[0m\" 201 -\n",
      "127.0.0.1 - - [14/Aug/2022 18:29:03] \"\u001b[35m\u001b[1mPOST /transactions/new HTTP/1.1\u001b[0m\" 201 -\n",
      "127.0.0.1 - - [14/Aug/2022 18:29:03] \"\u001b[35m\u001b[1mPOST /transactions/new HTTP/1.1\u001b[0m\" 201 -\n",
      "127.0.0.1 - - [14/Aug/2022 18:29:03] \"\u001b[35m\u001b[1mPOST /transactions/new HTTP/1.1\u001b[0m\" 201 -\n",
      "127.0.0.1 - - [14/Aug/2022 18:29:04] \"\u001b[35m\u001b[1mPOST /transactions/new HTTP/1.1\u001b[0m\" 201 -\n",
      "127.0.0.1 - - [14/Aug/2022 18:29:04] \"\u001b[35m\u001b[1mPOST /transactions/new HTTP/1.1\u001b[0m\" 201 -\n",
      "127.0.0.1 - - [14/Aug/2022 18:29:05] \"\u001b[35m\u001b[1mPOST /transactions/new HTTP/1.1\u001b[0m\" 201 -\n",
      "127.0.0.1 - - [14/Aug/2022 18:29:22] \"GET /mine HTTP/1.1\" 200 -\n",
      "127.0.0.1 - - [14/Aug/2022 18:29:47] \"GET /chain HTTP/1.1\" 200 -\n"
     ]
    }
   ],
   "source": [
    "from textwrap import indent\n",
    "from flask import Flask, request\n",
    "from uuid import uuid4\n",
    "from blockchain import Blockchain\n",
    "from flask.json import jsonify\n",
    "\n",
    "#Para el correcto funcionamiento de la block chain es neceario que haya nodos que recopilen las transacciones\n",
    "# y creen lso bloques. En estos nodos se hace la prueba de trabajo. En este caso se va a crea una red fromada por un\n",
    "#solo nodo en este ordenador \"app\" y va a tener un identificador único, para diferencialro del resto de nodos de la red\n",
    "\n",
    "#creación del nodo\n",
    "app = Flask(__name__)\n",
    "\n",
    "\n",
    "node_identifier = str(uuid4()).replace('-','')\n",
    "\n",
    "blockchain = Blockchain()\n",
    "\n",
    "from urllib import response\n",
    "\n",
    "\n",
    "@app.route('/mine', methods = ['GET'])\n",
    "def mine ():\n",
    "    #último bloque de la blockchain\n",
    "    lastBlock = blockchain.blockchain[-1]\n",
    "\n",
    "    #valor de la prueba del último bloque\n",
    "    previousProof = lastBlock['proof']\n",
    "\n",
    "    # \"Proof of work\"\n",
    "    proof = blockchain.proofOfWrork(previousProof)\n",
    "\n",
    "    #se recompensa al nodo con un nuevo bitcoin es la última trnsacción que se recoge en el bloque actual\n",
    "    blockchain.addTransactions(sender=\"0\", reciver= node_identifier, amount= 1)\n",
    "\n",
    "    #Hash del último bloque de la blockchain\n",
    "    previousHash = blockchain.hash(lastBlock)\n",
    "    block = blockchain.createBlock(proof,previousHash)\n",
    "\n",
    "    message = {\n",
    "        \"message\": \"New Block\",\n",
    "        \"index\": block['index'],\n",
    "        \"transaction\": block['transaction'],\n",
    "        \"proof\": block['proof'],\n",
    "        \"previousHash\": block [\"previousHash\"]\n",
    "    }\n",
    "    \n",
    "    return  jsonify(message), 200\n",
    "\n",
    "    \n",
    "@app.route('/transactions/new', methods = ['POST'])\n",
    "def new_transaction():\n",
    "    values = request.get_json()\n",
    "    #comprueba que la respeusta desde el cliente tiene los campos sender, reciver y amount\n",
    "\n",
    "    required = ['sender', 'reciver', 'amount']\n",
    "    if not all (k in values for k in required):\n",
    "        return 'Missin values', 400\n",
    "\n",
    "    #crear una nueva transacción\n",
    "    index = blockchain.addTransactions(values['sender'], values['reciver'], values['amount'])\n",
    "    response  = {'message': f'Transaction will be added to Block {index}'}\n",
    "    return jsonify (response), 201\n",
    "\n",
    "@app.route('/chain', methods = ['GET'])\n",
    "def chain ():\n",
    "    response = {\n",
    "        'blockchain': blockchain.blockchain,\n",
    "        'lenght': len(blockchain.blockchain)\n",
    "    }\n",
    "    return jsonify(response), 200\n",
    "\n",
    "\n",
    "if __name__ == \"__main__\":\n",
    "    app.run(host = '0.0.0.0', port = 5001)"
   ]
  },
  {
   "cell_type": "markdown",
   "metadata": {},
   "source": []
  }
 ],
 "metadata": {
  "kernelspec": {
   "display_name": "Python 3.10.4 64-bit",
   "language": "python",
   "name": "python3"
  },
  "language_info": {
   "codemirror_mode": {
    "name": "ipython",
    "version": 3
   },
   "file_extension": ".py",
   "mimetype": "text/x-python",
   "name": "python",
   "nbconvert_exporter": "python",
   "pygments_lexer": "ipython3",
   "version": "3.10.4"
  },
  "orig_nbformat": 4,
  "vscode": {
   "interpreter": {
    "hash": "aee8b7b246df8f9039afb4144a1f6fd8d2ca17a180786b69acc140d282b71a49"
   }
  }
 },
 "nbformat": 4,
 "nbformat_minor": 2
}
