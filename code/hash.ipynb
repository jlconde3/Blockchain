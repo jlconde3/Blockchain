{
 "cells": [
  {
   "cell_type": "code",
   "execution_count": 55,
   "metadata": {},
   "outputs": [],
   "source": [
    "from hashlib import sha256\n",
    "import time \n",
    "import json"
   ]
  },
  {
   "cell_type": "code",
   "execution_count": 56,
   "metadata": {},
   "outputs": [],
   "source": [
    "class Blockchain(object):\n",
    "    def __init__(self):\n",
    "        self.listTransactions = []\n",
    "        self.blockchain = []\n",
    "        #primer bloque de la cadena\n",
    "        self.createBlock(1,100)\n",
    "\n",
    "    #Crea un bloque que contiene una lista con las transacciones\n",
    "    def createBlock (self, proof, previousHash):\n",
    "        block = {\n",
    "            \"index\": len (self.blockchain) + 1,\n",
    "            \"timestap\": time.time(),\n",
    "            \"transaction\": self.listTransactions,\n",
    "            \"proof\": proof,\n",
    "            \"previousHash\": previousHash or hash(self.blockchain[-1]) #se genera el hash del bloque anterior al que se crea\n",
    "        }\n",
    "        self.blockchain.append(block)\n",
    "        self.listTransactions = []\n",
    "        return block\n",
    "\n",
    "    #Añadir transacciones a la lista de transacciones de un bloque\n",
    "    def addTransactions (self, sender, reciver, amount):\n",
    "        self.blockchain.append({\n",
    "            \"sender\": sender,\n",
    "            \"reciver\": reciver,\n",
    "            \"amount\": amount\n",
    "        })\n",
    "\n",
    "        return len (self.blockchain)\n",
    "\n",
    "    @staticmethod #Método estático, que no afecta ni a la clase ni al método\n",
    "    def hash (block):\n",
    "        blockHash = json.dumps(block, sort_keys = True).encode()\n",
    "        return sha256(blockHash).hexdigest()\n",
    "    \n",
    "    #Cuando se mina o crea el bloque se tiene obtener el \"proof\" que resuelva el problema. Una vez obtenido se inserta el bloque. \n",
    "    #El algoritmo a resolver usa el valor del \"proof\" del último bloque y la variable \"proof\". \n",
    "    \n",
    "    def proofOfWrork (previousproof):\n",
    "        proof = 0\n",
    "        while sha256((f\"{previousproof * proof}\").encode()).hexdigest()[:4] != \"0000\":\n",
    "            proof +=1\n",
    "        return proof\n",
    "                    "
   ]
  }
 ],
 "metadata": {
  "kernelspec": {
   "display_name": "Python 3.10.4 64-bit",
   "language": "python",
   "name": "python3"
  },
  "language_info": {
   "codemirror_mode": {
    "name": "ipython",
    "version": 3
   },
   "file_extension": ".py",
   "mimetype": "text/x-python",
   "name": "python",
   "nbconvert_exporter": "python",
   "pygments_lexer": "ipython3",
   "version": "3.10.4"
  },
  "orig_nbformat": 4,
  "vscode": {
   "interpreter": {
    "hash": "aee8b7b246df8f9039afb4144a1f6fd8d2ca17a180786b69acc140d282b71a49"
   }
  }
 },
 "nbformat": 4,
 "nbformat_minor": 2
}
